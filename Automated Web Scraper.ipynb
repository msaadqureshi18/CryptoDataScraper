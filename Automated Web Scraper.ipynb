{
 "cells": [
  {
   "cell_type": "code",
   "execution_count": null,
   "id": "59add12d",
   "metadata": {},
   "outputs": [],
   "source": [
    "#Import libraries\n",
    "from bs4 import BeautifulSoup\n",
    "import requests"
   ]
  },
  {
   "cell_type": "code",
   "execution_count": null,
   "id": "458395da",
   "metadata": {},
   "outputs": [],
   "source": [
    "#Fetch Web Page\n",
    "url = 'https://coinmarketcap.com/currencies/bitcoin/'\n",
    "\n",
    "page = requests.get(url)\n",
    "\n",
    "soup = BeautifulSoup(page.text, 'html')"
   ]
  },
  {
   "cell_type": "code",
   "execution_count": null,
   "id": "7d7eeacd",
   "metadata": {},
   "outputs": [],
   "source": [
    "#Print the Soup:\n",
    "print(soup)"
   ]
  },
  {
   "cell_type": "code",
   "execution_count": null,
   "id": "1a4827cf",
   "metadata": {},
   "outputs": [],
   "source": [
    "soup.find('span', class_ = 'coin-name-pc')"
   ]
  },
  {
   "cell_type": "code",
   "execution_count": null,
   "id": "4ee5f658",
   "metadata": {},
   "outputs": [],
   "source": [
    "soup.find('span', class_ = 'coin-name-pc').text"
   ]
  },
  {
   "cell_type": "code",
   "execution_count": null,
   "id": "a852c772",
   "metadata": {},
   "outputs": [],
   "source": [
    "#Extract Cryptocurrency Name\n",
    "crypto_name = soup.find('span', class_ = 'coin-name-pc').text\n",
    "print(crypto_name)"
   ]
  },
  {
   "cell_type": "code",
   "execution_count": null,
   "id": "cadcd2cd",
   "metadata": {},
   "outputs": [],
   "source": [
    "soup.find('span', class_ = 'sc-16891c57-0 dxubiK base-text').text"
   ]
  },
  {
   "cell_type": "code",
   "execution_count": null,
   "id": "2bc0c927",
   "metadata": {},
   "outputs": [],
   "source": [
    "#Extract Cryprocurrency Price\n",
    "crypto_price = soup.find('span', class_ = 'sc-16891c57-0 dxubiK base-text').text"
   ]
  },
  {
   "cell_type": "code",
   "execution_count": null,
   "id": "e060426f",
   "metadata": {},
   "outputs": [],
   "source": [
    "#Clean Cryprocurrency Price\n",
    "\n",
    "final_price = crypto_price.replace('$','')"
   ]
  },
  {
   "cell_type": "code",
   "execution_count": null,
   "id": "e8f0d9b8",
   "metadata": {},
   "outputs": [],
   "source": [
    "final_price"
   ]
  },
  {
   "cell_type": "code",
   "execution_count": null,
   "id": "b3ce5053",
   "metadata": {},
   "outputs": [],
   "source": [
    "import pandas as pd\n"
   ]
  },
  {
   "cell_type": "code",
   "execution_count": null,
   "id": "ccf4b6e7",
   "metadata": {},
   "outputs": [],
   "source": [
    "#Get current Timestamp\n",
    "\n",
    "from datetime import datetime\n",
    "\n",
    "dt = datetime.now()\n",
    "\n",
    "\n",
    "print(dt)"
   ]
  },
  {
   "cell_type": "code",
   "execution_count": null,
   "id": "a0e52856",
   "metadata": {},
   "outputs": [],
   "source": [
    "#Create a DataFrame\n",
    "\n",
    "dt = datetime.now()\n",
    "\n",
    "dict = {'Crypto Name':crypto_name, 'Price':final_price, 'TimeStamp': dt}\n",
    "\n",
    "df = pd.DataFrame([dict])\n",
    "\n",
    "df"
   ]
  },
  {
   "cell_type": "code",
   "execution_count": null,
   "id": "febfc6d0",
   "metadata": {},
   "outputs": [],
   "source": [
    "#df.to_csv(r'C:\\Users\\saad0\\OneDrive\\Desktop\\COURSES AND PORTFOLIO PROJECTS\\Crypto Web Puller\\Crypto_Automated_Pull.csv')"
   ]
  },
  {
   "cell_type": "code",
   "execution_count": null,
   "id": "e848b9d2",
   "metadata": {},
   "outputs": [],
   "source": [
    "import os"
   ]
  },
  {
   "cell_type": "code",
   "execution_count": null,
   "id": "0dd0017f",
   "metadata": {},
   "outputs": [],
   "source": [
    "#Check CSV File Existence and Save Data:\n",
    "\n",
    "if os.path.exists(r'C:\\Users\\saad0\\OneDrive\\Desktop\\COURSES AND PORTFOLIO PROJECTS\\Crypto Web Puller\\Crypto_Automated_Pull.csv'):\n",
    "    df.to_csv(r'C:\\Users\\saad0\\OneDrive\\Desktop\\COURSES AND PORTFOLIO PROJECTS\\Crypto Web Puller\\Crypto_Automated_Pull.csv', mode = 'a', header = False, index = False)   \n",
    "else:\n",
    "    df.to_csv(r'C:\\Users\\saad0\\OneDrive\\Desktop\\COURSES AND PORTFOLIO PROJECTS\\Crypto Web Puller\\Crypto_Automated_Pull.csv', index = False)"
   ]
  },
  {
   "cell_type": "markdown",
   "id": "dbb7dd55",
   "metadata": {},
   "source": [
    "# Putting it all together"
   ]
  },
  {
   "cell_type": "code",
   "execution_count": null,
   "id": "a0a531cb",
   "metadata": {},
   "outputs": [],
   "source": [
    "from bs4 import BeautifulSoup\n",
    "import requests\n",
    "import pandas as pd\n",
    "from datetime import datetime\n",
    "import os \n",
    "import time"
   ]
  },
  {
   "cell_type": "code",
   "execution_count": null,
   "id": "d55e31ad",
   "metadata": {},
   "outputs": [],
   "source": [
    "def automated_crypto_pull():\n",
    "    url = 'https://coinmarketcap.com/currencies/bitcoin/'\n",
    "\n",
    "    page = requests.get(url)\n",
    "\n",
    "    soup = BeautifulSoup(page.text, 'html')\n",
    "\n",
    "    crypto_name = soup.find('span', class_ = 'coin-name-pc').text\n",
    "\n",
    "    crypto_price = soup.find('span', class_ = 'sc-16891c57-0 dxubiK base-text').text\n",
    "\n",
    "    final_price = crypto_price.replace('$','')\n",
    "\n",
    "    dt = datetime.now()\n",
    "\n",
    "    dict = {'Crypto Name':crypto_name, 'Price':final_price, 'TimeStamp': dt}\n",
    "\n",
    "    df = pd.DataFrame([dict])\n",
    "\n",
    "    if os.path.exists(r'C:\\Users\\saad0\\OneDrive\\Desktop\\COURSES AND PORTFOLIO PROJECTS\\Crypto Web Puller\\Crypto_Automated_Pull.csv'):\n",
    "        df.to_csv(r'C:\\Users\\saad0\\OneDrive\\Desktop\\COURSES AND PORTFOLIO PROJECTS\\Crypto Web Puller\\Crypto_Automated_Pull.csv', mode = 'a', header = False, index = False)   \n",
    "    else:\n",
    "        df.to_csv(r'C:\\Users\\saad0\\OneDrive\\Desktop\\COURSES AND PORTFOLIO PROJECTS\\Crypto Web Puller\\Crypto_Automated_Pull.csv', index = False)\n",
    "    print(df)\n"
   ]
  },
  {
   "cell_type": "code",
   "execution_count": null,
   "id": "fbb82844",
   "metadata": {},
   "outputs": [],
   "source": [
    "#Automated Data Collection with a Loop:\n",
    "while True:\n",
    "    automated_crypto_pull()\n",
    "    time.sleep(10)"
   ]
  }
 ],
 "metadata": {
  "kernelspec": {
   "display_name": "Python 3 (ipykernel)",
   "language": "python",
   "name": "python3"
  },
  "language_info": {
   "codemirror_mode": {
    "name": "ipython",
    "version": 3
   },
   "file_extension": ".py",
   "mimetype": "text/x-python",
   "name": "python",
   "nbconvert_exporter": "python",
   "pygments_lexer": "ipython3",
   "version": "3.11.5"
  }
 },
 "nbformat": 4,
 "nbformat_minor": 5
}
